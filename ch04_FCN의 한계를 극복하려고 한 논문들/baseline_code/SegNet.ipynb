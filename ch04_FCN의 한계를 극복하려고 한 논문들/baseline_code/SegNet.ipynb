{
 "cells": [
  {
   "cell_type": "code",
   "execution_count": 1,
   "metadata": {
    "ExecuteTime": {
     "end_time": "2021-03-22T15:46:00.254848Z",
     "start_time": "2021-03-22T15:45:59.622542Z"
    }
   },
   "outputs": [],
   "source": [
    "'''\n",
    "reference \n",
    "http://cvlab.postech.ac.kr/research/deconvnet/model/DeconvNet/DeconvNet_inference_deploy.prototxt\n",
    "'''\n",
    "\n",
    "import torch\n",
    "import torch.nn as nn\n",
    "from torchvision import models\n",
    "\n",
    "\n",
    "\n",
    "class SegNet(nn.Module):\n",
    "    def __init__(self, num_classes=21, init_weights=True):\n",
    "        super(SegNet, self).__init__()\n",
    "        self.relu = nn.ReLU(inplace=True)\n",
    "        \n",
    "        def CBR(in_channels, out_channels, kernel_size=3, stride=1, padding=1):\n",
    "            \n",
    "            return nn.Sequential(\n",
    "                nn.Conv2d(in_channels=in_channels, \n",
    "                          out_channels=out_channels,\n",
    "                          kernel_size=kernel_size, \n",
    "                          stride=stride, \n",
    "                          padding=padding),\n",
    "                nn.BatchNorm2d(out_channels),\n",
    "                nn.ReLU())\n",
    "\n",
    "        \n",
    "        '''\n",
    "        input: \"data\"\n",
    "        input_dim: 1\n",
    "        input_dim: 3\n",
    "        input_dim: 224\n",
    "        input_dim: 224\n",
    "        '''\n",
    "        \n",
    "        # 224 x 224\n",
    "        # conv1\n",
    "        self.conv1_1 = CBR(3, 64, 3, 1, 1)\n",
    "        self.conv1_2 = CBR(64, 64, 3, 1, 1)\n",
    "        self.pool1 = nn.MaxPool2d(kernel_size=2, stride=2, ceil_mode=True, return_indices=True) # 1/2\n",
    "        \n",
    "        # 112 x 112\n",
    "        # conv2 \n",
    "        self.conv2_1 = CBR(64, 128, 3, 1, 1)\n",
    "        self.conv2_2 = CBR(128, 128, 3, 1, 1)\n",
    "        self.pool2 = nn.MaxPool2d(kernel_size=2, stride=2, ceil_mode=True, return_indices=True) # 1/4\n",
    "        \n",
    "        # 56 x 56\n",
    "        # conv3\n",
    "        self.conv3_1 = CBR(128, 256, 3, 1, 1)\n",
    "        self.conv3_2 = CBR(256, 256, 3, 1, 1)\n",
    "        self.conv3_3 = CBR(256, 256, 3, 1, 1)        \n",
    "        self.pool3 = nn.MaxPool2d(kernel_size=2, stride=2, ceil_mode=True, return_indices=True) # 1/8\n",
    "        \n",
    "        # 28 x 28\n",
    "        # conv4\n",
    "        self.conv4_1 = CBR(256, 512, 3, 1, 1)\n",
    "        self.conv4_2 = CBR(512, 512, 3, 1, 1)\n",
    "        self.conv4_3 = CBR(512, 512, 3, 1, 1)        \n",
    "        self.pool4 = nn.MaxPool2d(kernel_size=2, stride=2, ceil_mode=True, return_indices=True) # 1/16\n",
    "        \n",
    "        # 14 x 14\n",
    "        # conv5\n",
    "        self.conv5_1 = CBR(512, 512, 3, 1, 1)\n",
    "        self.conv5_2 = CBR(512, 512, 3, 1, 1)\n",
    "        self.conv5_3 = CBR(512, 512, 3, 1, 1)\n",
    "        self.pool5 = nn.MaxPool2d(kernel_size=2, stride=2, ceil_mode=True, return_indices=True)\n",
    "        \n",
    "        # 14 x 14\n",
    "        # unpool5\n",
    "        self.unpool5 = nn.MaxUnpool2d(2, stride=2)\n",
    "        self.deconv5_1 = CBR(512, 512, 3, 1, 1)\n",
    "        self.deconv5_2 = CBR(512, 512, 3, 1, 1)\n",
    "        self.deconv5_3 = CBR(512, 512, 3, 1, 1)\n",
    "        \n",
    "        # 28 x 28\n",
    "        # unpool4\n",
    "        self.unpool4 = nn.MaxUnpool2d(2, stride=2)\n",
    "        self.deconv4_1 = CBR(512, 512, 3, 1, 1)\n",
    "        self.deconv4_2 = CBR(512, 512, 3, 1, 1)\n",
    "        self.deconv4_3 = CBR(512, 256, 3, 1, 1)        \n",
    "\n",
    "        # 56 x 56        \n",
    "        # unpool3\n",
    "        self.unpool3 = nn.MaxUnpool2d(2, stride=2)\n",
    "        self.deconv3_1 = CBR(256, 256, 3, 1, 1)\n",
    "        self.deconv3_2 = CBR(256, 256, 3, 1, 1)\n",
    "        self.deconv3_3 = CBR(256, 128, 3, 1, 1)                          \n",
    "        \n",
    "        # 112 x 112         \n",
    "        # unpool2\n",
    "        self.unpool2 = nn.MaxUnpool2d(2, stride=2)\n",
    "        self.deconv2_1 = CBR(128, 128, 3, 1, 1)\n",
    "        self.deconv2_2 = CBR(128, 64, 3, 1, 1)\n",
    "\n",
    "        # 224 x 224        \n",
    "        # unpool1\n",
    "        self.unpool1 = nn.MaxUnpool2d(2, stride=2)\n",
    "        self.deconv1_1 = CBR(64, 64, 3, 1, 1)\n",
    "        # Score\n",
    "        self.score_fr = nn.Conv2d(64, num_classes, 3, 1, 1, 1)\n",
    "        \n",
    "        if init_weights:\n",
    "            self._initialize_weights()\n",
    "    \n",
    "    def forward(self, x):\n",
    "        \n",
    "        h = self.conv1_1(x)\n",
    "        h = self.conv1_2(h)\n",
    "        h, pool1_indices = self.pool1(h)\n",
    "        \n",
    "        h = self.conv2_1(h)\n",
    "        h = self.conv2_2(h)\n",
    "        h, pool2_indices = self.pool2(h)\n",
    "        \n",
    "        h = self.conv3_1(h)\n",
    "        h = self.conv3_2(h)\n",
    "        h = self.conv3_3(h)        \n",
    "        h, pool3_indices = self.pool3(h)\n",
    "        \n",
    "        h = self.conv4_1(h)\n",
    "        h = self.conv4_2(h)\n",
    "        h = self.conv4_3(h)        \n",
    "        h, pool4_indices = self.pool4(h) \n",
    "        \n",
    "        h = self.conv5_1(h)\n",
    "        h = self.conv5_2(h)\n",
    "        h = self.conv5_3(h)        \n",
    "        h, pool5_indices = self.pool5(h)\n",
    "        \n",
    "        \n",
    "        h = self.unpool5(h, pool5_indices)\n",
    "        h = self.deconv5_1(h)        \n",
    "        h = self.deconv5_2(h)                \n",
    "        h = self.deconv5_3(h)                \n",
    "\n",
    "        h = self.unpool4(h, pool4_indices)\n",
    "        h = self.deconv4_1(h)        \n",
    "        h = self.deconv4_2(h)                \n",
    "        h = self.deconv4_3(h)                       \n",
    "\n",
    "        h = self.unpool3(h, pool3_indices)\n",
    "        h = self.deconv3_1(h)        \n",
    "        h = self.deconv3_2(h)                \n",
    "        h = self.deconv3_3(h)                            \n",
    "        \n",
    "        h = self.unpool2(h, pool2_indices)\n",
    "        h = self.deconv2_1(h)        \n",
    "        h = self.deconv2_2(h)                                         \n",
    "\n",
    "        h = self.unpool1(h, pool1_indices)\n",
    "        h = self.deconv1_1(h)                                        \n",
    "            \n",
    "        h = self.score_fr(h)           \n",
    "        \n",
    "        return h\n",
    "    \n",
    "    def _initialize_weights(self):\n",
    "        for m in self.named_modules():\n",
    "            if isinstance(m[1], nn.Conv2d):\n",
    "                if m[0] == 'features.38':\n",
    "                    nn.init.normal_(m[1].weight.data, mean=0, std=0.01)\n",
    "                    nn.init.constant_(m[1].bias.data, 0.0)"
   ]
  },
  {
   "cell_type": "code",
   "execution_count": 2,
   "metadata": {
    "ExecuteTime": {
     "end_time": "2021-03-22T15:46:00.840562Z",
     "start_time": "2021-03-22T15:46:00.710562Z"
    },
    "scrolled": false
   },
   "outputs": [],
   "source": [
    "model = SegNet(num_classes=21)"
   ]
  },
  {
   "cell_type": "code",
   "execution_count": 3,
   "metadata": {
    "ExecuteTime": {
     "end_time": "2021-03-22T15:46:01.272529Z",
     "start_time": "2021-03-22T15:46:01.255993Z"
    }
   },
   "outputs": [
    {
     "data": {
      "text/plain": [
       "torch.Size([2, 3, 224, 224])"
      ]
     },
     "execution_count": 3,
     "metadata": {},
     "output_type": "execute_result"
    }
   ],
   "source": [
    "x = torch.rand(2, 3, 224, 224)\n",
    "x.shape"
   ]
  },
  {
   "cell_type": "code",
   "execution_count": 4,
   "metadata": {
    "ExecuteTime": {
     "end_time": "2021-03-22T15:46:03.095230Z",
     "start_time": "2021-03-22T15:46:02.039759Z"
    }
   },
   "outputs": [
    {
     "data": {
      "text/plain": [
       "torch.Size([2, 21, 224, 224])"
      ]
     },
     "execution_count": 4,
     "metadata": {},
     "output_type": "execute_result"
    }
   ],
   "source": [
    "output = model(x)\n",
    "output.shape"
   ]
  },
  {
   "cell_type": "code",
   "execution_count": 40,
   "metadata": {
    "ExecuteTime": {
     "end_time": "2021-03-22T13:29:35.500044Z",
     "start_time": "2021-03-22T13:29:35.487358Z"
    }
   },
   "outputs": [
    {
     "name": "stdout",
     "output_type": "stream",
     "text": [
      "Object `nn.conv2D` not found.\n"
     ]
    }
   ],
   "source": []
  },
  {
   "cell_type": "code",
   "execution_count": 43,
   "metadata": {
    "ExecuteTime": {
     "end_time": "2021-03-22T13:29:53.519503Z",
     "start_time": "2021-03-22T13:29:53.490988Z"
    }
   },
   "outputs": [],
   "source": [
    "?nn.Conv2d"
   ]
  },
  {
   "cell_type": "code",
   "execution_count": null,
   "metadata": {},
   "outputs": [],
   "source": [
    "?nn.conv2D"
   ]
  }
 ],
 "metadata": {
  "hide_input": false,
  "kernelspec": {
   "display_name": "Python 3",
   "language": "python",
   "name": "python3"
  },
  "language_info": {
   "codemirror_mode": {
    "name": "ipython",
    "version": 3
   },
   "file_extension": ".py",
   "mimetype": "text/x-python",
   "name": "python",
   "nbconvert_exporter": "python",
   "pygments_lexer": "ipython3",
   "version": "3.7.1"
  },
  "toc": {
   "base_numbering": 1,
   "nav_menu": {},
   "number_sections": true,
   "sideBar": true,
   "skip_h1_title": false,
   "title_cell": "Table of Contents",
   "title_sidebar": "Contents",
   "toc_cell": false,
   "toc_position": {},
   "toc_section_display": true,
   "toc_window_display": false
  }
 },
 "nbformat": 4,
 "nbformat_minor": 2
}
